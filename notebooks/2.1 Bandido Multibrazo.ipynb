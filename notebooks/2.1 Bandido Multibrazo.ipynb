{
 "cells": [
  {
   "cell_type": "code",
   "execution_count": null,
   "id": "d917e6c7",
   "metadata": {},
   "outputs": [],
   "source": [
    "import numpy as np"
   ]
  },
  {
   "cell_type": "markdown",
   "id": "638b7060",
   "metadata": {},
   "source": [
    "#### Vamos a escribir una función que nos permita escoger uno de los cinco brazos, y nos devuelva una recompensa, dependiendo de la probabilidad de dicho brazo."
   ]
  },
  {
   "cell_type": "code",
   "execution_count": null,
   "id": "403e7b2b",
   "metadata": {},
   "outputs": [],
   "source": [
    "def pull_bandit_arm(bandits, bandit_number):\n",
    "    \"\"\"Pull arm in position bandit_number and return the obtained reward (0 or 1).\"\"\"\n",
    "    result = np.random.uniform()\n",
    "    return int(result <= bandits[bandit_number])"
   ]
  },
  {
   "cell_type": "markdown",
   "id": "2e89173d",
   "metadata": {},
   "source": [
    "#### Ahora, crearemos la función que decide qué acción debe tomar el agente. Con probabilidad epsilon tomará una acción aleatoria; y si no, tomará la acción con mejor media de recompensas."
   ]
  },
  {
   "cell_type": "code",
   "execution_count": null,
   "id": "394f0edf",
   "metadata": {},
   "outputs": [],
   "source": [
    "def take_epsilon_greedy_action(epsilon, average_rewards):\n",
    "    \"\"\"Take random action with probability epsilon, else take best action.\"\"\"\n",
    "    result = np.random.uniform()\n",
    "    if result < epsilon:\n",
    "        return np.random.randint(0, len(average_rewards)) # Random action.\n",
    "    else:\n",
    "        return np.argmax(average_rewards) # Greedy action."
   ]
  },
  {
   "cell_type": "markdown",
   "id": "d4681467",
   "metadata": {},
   "source": [
    "#### Definamos las probabilidades de los brazos, los parámetros epsilon y la cantidad de iteraciones o acciones que vamos a tomar. Definamos también tres listas donde guardaremos información sobre las acciones ejecutadas hasta este momento y las recompensas conseguidas para cada brazo."
   ]
  },
  {
   "cell_type": "code",
   "execution_count": null,
   "id": "d66b80de",
   "metadata": {},
   "outputs": [],
   "source": [
    "# Probability of success of each bandit.\n",
    "bandits = [0.1, 0.3, 0.05, 0.55, 0.4]\n",
    "\n",
    "num_iterations = 1000\n",
    "epsilon = 0.1\n",
    "\n",
    "# Store info to know which one is the best action in each moment.\n",
    "total_rewards = [0 for _ in range(len(bandits))]\n",
    "total_attempts = [0 for _ in range(len(bandits))]\n",
    "avg_rewards = [0.0 for _ in range(len(bandits))]\n",
    "\n",
    "for iteration in range(num_iterations+1):\n",
    "  action = take_epsilon_greedy_action(epsilon, avg_rewards)\n",
    "  reward = pull_bandit_arm(bandits, action)\n",
    "  # Store result.\n",
    "  total_rewards[action] += reward\n",
    "  total_attempts[action] += 1\n",
    "  avg_rewards[action] = total_rewards[action] / float(total_attempts[action])\n",
    "  \n",
    "  if iteration % 100 == 0:\n",
    "    print('Average reward for bandits in iteration {} is {}'.format(iteration,\n",
    "                              ['{:.2f}'.format(elem) for elem in avg_rewards]))"
   ]
  },
  {
   "cell_type": "markdown",
   "id": "29811017",
   "metadata": {},
   "source": [
    "#### Imprimimos al mejor bandido y la recompensa total recolectada en los 1000 episodios."
   ]
  },
  {
   "cell_type": "code",
   "execution_count": null,
   "id": "932f4147",
   "metadata": {},
   "outputs": [],
   "source": [
    "# Print results.\n",
    "best_bandit = np.argmax(avg_rewards)\n",
    "print('\\nBest bandit is {} with an average observed reward of {:.3f}'\n",
    "      .format(best_bandit, avg_rewards[best_bandit]))\n",
    "print('Total observed reward in the {} episodes has been {}'\n",
    "      .format(num_iterations, sum(total_rewards)))"
   ]
  },
  {
   "cell_type": "code",
   "execution_count": null,
   "id": "e3fa4e81",
   "metadata": {},
   "outputs": [],
   "source": []
  }
 ],
 "metadata": {
  "kernelspec": {
   "display_name": "Python 3 (ipykernel)",
   "language": "python",
   "name": "python3"
  },
  "language_info": {
   "codemirror_mode": {
    "name": "ipython",
    "version": 3
   },
   "file_extension": ".py",
   "mimetype": "text/x-python",
   "name": "python",
   "nbconvert_exporter": "python",
   "pygments_lexer": "ipython3",
   "version": "3.8.10"
  }
 },
 "nbformat": 4,
 "nbformat_minor": 5
}
